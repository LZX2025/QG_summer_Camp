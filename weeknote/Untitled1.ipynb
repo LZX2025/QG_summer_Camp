{
 "cells": [
  {
   "cell_type": "markdown",
   "id": "a6e3b88b-c7c3-46dc-96ae-0e83a5236425",
   "metadata": {},
   "source": [
    "# 周记\n",
    "按照学习任务学习，  \n",
    "每一个模型完成代码  \n",
    "熟悉工作室作息  \n",
    "熟悉工作是制度  \n",
    "加深了对深度学习、卷积网络、循环网络、注意力机制的理解  \n",
    "认识了工作室的同学  \n",
    "对于长远安排和计划仍有一定困惑  \n",
    "发现debug 和 coding能力有待提升  \n",
    "transformer实现遇到瓶颈  "
   ]
  },
  {
   "cell_type": "code",
   "execution_count": null,
   "id": "61ae919e-ccf4-458a-a1ec-182ab1dfb0e5",
   "metadata": {},
   "outputs": [],
   "source": []
  }
 ],
 "metadata": {
  "kernelspec": {
   "display_name": "Python 3 (ipykernel)",
   "language": "python",
   "name": "python3"
  },
  "language_info": {
   "codemirror_mode": {
    "name": "ipython",
    "version": 3
   },
   "file_extension": ".py",
   "mimetype": "text/x-python",
   "name": "python",
   "nbconvert_exporter": "python",
   "pygments_lexer": "ipython3",
   "version": "3.11.0"
  }
 },
 "nbformat": 4,
 "nbformat_minor": 5
}
